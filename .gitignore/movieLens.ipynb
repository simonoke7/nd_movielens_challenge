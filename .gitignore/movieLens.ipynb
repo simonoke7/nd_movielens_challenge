{
 "cells": [
  {
   "cell_type": "code",
   "execution_count": 1,
   "id": "b9c76e40-8b3c-45a4-99f1-74b6cdaa096a",
   "metadata": {},
   "outputs": [],
   "source": [
    "from pyspark.sql import SparkSession\n",
    "import pyspark.sql.functions as F\n",
    "import pyspark.sql.types  as t\n",
    "\n",
    "tests_count = 0\n",
    "tests_passed_count = 0"
   ]
  },
  {
   "cell_type": "code",
   "execution_count": 2,
   "id": "55997f6f-96a6-4d4f-aede-7a1d7cd681b3",
   "metadata": {},
   "outputs": [
    {
     "name": "stderr",
     "output_type": "stream",
     "text": [
      "23/12/27 08:17:23 WARN Utils: Your hostname, Simons-MacBook-Pro.local resolves to a loopback address: 127.0.0.1; using 192.168.0.30 instead (on interface en0)\n",
      "23/12/27 08:17:23 WARN Utils: Set SPARK_LOCAL_IP if you need to bind to another address\n",
      "Setting default log level to \"WARN\".\n",
      "To adjust logging level use sc.setLogLevel(newLevel). For SparkR, use setLogLevel(newLevel).\n",
      "23/12/27 08:17:24 WARN NativeCodeLoader: Unable to load native-hadoop library for your platform... using builtin-java classes where applicable\n"
     ]
    }
   ],
   "source": [
    "# Create a SparkSession\n",
    "spark = SparkSession.builder.appName('MovieLens').getOrCreate()"
   ]
  },
  {
   "cell_type": "code",
   "execution_count": 3,
   "id": "43df2f83-dd7a-4b30-9687-f48c0b164df4",
   "metadata": {},
   "outputs": [
    {
     "name": "stderr",
     "output_type": "stream",
     "text": [
      "                                                                                \r"
     ]
    },
    {
     "name": "stdout",
     "output_type": "stream",
     "text": [
      "Movies DataFrame:\n",
      "+-------+--------------------+--------------------+\n",
      "|MovieID|               Title|              Genres|\n",
      "+-------+--------------------+--------------------+\n",
      "|      1|    Toy Story (1995)|Animation|Childre...|\n",
      "|      2|      Jumanji (1995)|Adventure|Childre...|\n",
      "|      3|Grumpier Old Men ...|      Comedy|Romance|\n",
      "|      4|Waiting to Exhale...|        Comedy|Drama|\n",
      "|      5|Father of the Bri...|              Comedy|\n",
      "|      6|         Heat (1995)|Action|Crime|Thri...|\n",
      "|      7|      Sabrina (1995)|      Comedy|Romance|\n",
      "|      8| Tom and Huck (1995)|Adventure|Children's|\n",
      "|      9| Sudden Death (1995)|              Action|\n",
      "|     10|    GoldenEye (1995)|Action|Adventure|...|\n",
      "|     11|American Presiden...|Comedy|Drama|Romance|\n",
      "|     12|Dracula: Dead and...|       Comedy|Horror|\n",
      "|     13|        Balto (1995)|Animation|Children's|\n",
      "|     14|        Nixon (1995)|               Drama|\n",
      "|     15|Cutthroat Island ...|Action|Adventure|...|\n",
      "|     16|       Casino (1995)|      Drama|Thriller|\n",
      "|     17|Sense and Sensibi...|       Drama|Romance|\n",
      "|     18|   Four Rooms (1995)|            Thriller|\n",
      "|     19|Ace Ventura: When...|              Comedy|\n",
      "|     20|  Money Train (1995)|              Action|\n",
      "+-------+--------------------+--------------------+\n",
      "only showing top 20 rows\n",
      "\n",
      "\n",
      "Ratings DataFrame:\n",
      "+------+-------+------+---------+\n",
      "|UserID|MovieID|Rating|Timestamp|\n",
      "+------+-------+------+---------+\n",
      "|     1|   1193|     5|978300760|\n",
      "|     1|    661|     3|978302109|\n",
      "|     1|    914|     3|978301968|\n",
      "|     1|   3408|     4|978300275|\n",
      "|     1|   2355|     5|978824291|\n",
      "|     1|   1197|     3|978302268|\n",
      "|     1|   1287|     5|978302039|\n",
      "|     1|   2804|     5|978300719|\n",
      "|     1|    594|     4|978302268|\n",
      "|     1|    919|     4|978301368|\n",
      "|     1|    595|     5|978824268|\n",
      "|     1|    938|     4|978301752|\n",
      "|     1|   2398|     4|978302281|\n",
      "|     1|   2918|     4|978302124|\n",
      "|     1|   1035|     5|978301753|\n",
      "|     1|   2791|     4|978302188|\n",
      "|     1|   2687|     3|978824268|\n",
      "|     1|   2018|     4|978301777|\n",
      "|     1|   3105|     5|978301713|\n",
      "|     1|   2797|     4|978302039|\n",
      "+------+-------+------+---------+\n",
      "only showing top 20 rows\n",
      "\n"
     ]
    }
   ],
   "source": [
    "# Read the movies.dat file\n",
    "movies_df = spark.read.load(\"movies.dat\", format=\"csv\", sep=\"::\", inferSchema=True)\n",
    "# Specify column names for movies_df\n",
    "movies_df = movies_df.toDF(\"MovieID\", \"Title\", \"Genres\")\n",
    "\n",
    "# Read the ratings.dat file\n",
    "ratings_df = spark.read.load(\"ratings.dat\", format=\"csv\", sep=\"::\", inferSchema=True)\n",
    "# Specify column names for ratings_df\n",
    "ratings_df = ratings_df.toDF(\"UserID\", \"MovieID\", \"Rating\", \"Timestamp\")\n",
    "\n",
    "# Print the DataFrames to verify successful reading\n",
    "print(\"Movies DataFrame:\")\n",
    "movies_df.show()\n",
    "\n",
    "print(\"\\nRatings DataFrame:\")\n",
    "ratings_df.show()"
   ]
  },
  {
   "cell_type": "code",
   "execution_count": 4,
   "id": "299f6e7b-50f3-4c37-8482-789ccbed8329",
   "metadata": {},
   "outputs": [
    {
     "name": "stdout",
     "output_type": "stream",
     "text": [
      "+------+-------+------+-------------------+\n",
      "|UserID|MovieID|Rating|           DateTime|\n",
      "+------+-------+------+-------------------+\n",
      "|     1|   1193|     5|2000-12-31 22:12:40|\n",
      "|     1|    661|     3|2000-12-31 22:35:09|\n",
      "|     1|    914|     3|2000-12-31 22:32:48|\n",
      "|     1|   3408|     4|2000-12-31 22:04:35|\n",
      "|     1|   2355|     5|2001-01-06 23:38:11|\n",
      "|     1|   1197|     3|2000-12-31 22:37:48|\n",
      "|     1|   1287|     5|2000-12-31 22:33:59|\n",
      "|     1|   2804|     5|2000-12-31 22:11:59|\n",
      "|     1|    594|     4|2000-12-31 22:37:48|\n",
      "|     1|    919|     4|2000-12-31 22:22:48|\n",
      "|     1|    595|     5|2001-01-06 23:37:48|\n",
      "|     1|    938|     4|2000-12-31 22:29:12|\n",
      "|     1|   2398|     4|2000-12-31 22:38:01|\n",
      "|     1|   2918|     4|2000-12-31 22:35:24|\n",
      "|     1|   1035|     5|2000-12-31 22:29:13|\n",
      "|     1|   2791|     4|2000-12-31 22:36:28|\n",
      "|     1|   2687|     3|2001-01-06 23:37:48|\n",
      "|     1|   2018|     4|2000-12-31 22:29:37|\n",
      "|     1|   3105|     5|2000-12-31 22:28:33|\n",
      "|     1|   2797|     4|2000-12-31 22:33:59|\n",
      "+------+-------+------+-------------------+\n",
      "only showing top 20 rows\n",
      "\n"
     ]
    }
   ],
   "source": [
    "# Convert the string timestamp to seconds since the epoch:\n",
    "ratings_df = ratings_df.withColumn('DateTime', F.to_timestamp(ratings_df[\"Timestamp\"].cast(dataType=t.TimestampType())))\n",
    "\n",
    "# Drop the original string timestamp column:\n",
    "ratings_df = ratings_df.drop(\"Timestamp\")\n",
    "\n",
    "ratings_df.show()"
   ]
  },
  {
   "cell_type": "code",
   "execution_count": 5,
   "id": "22ff7860-5c98-46d0-bba7-dd1e0fd572bf",
   "metadata": {},
   "outputs": [
    {
     "name": "stderr",
     "output_type": "stream",
     "text": [
      "[Stage 7:==============>                                            (1 + 3) / 4]\r"
     ]
    },
    {
     "name": "stdout",
     "output_type": "stream",
     "text": [
      "+-------+------------------+------------------+-----------------+\n",
      "|summary|            UserID|           MovieID|           Rating|\n",
      "+-------+------------------+------------------+-----------------+\n",
      "|  count|           1000209|           1000209|          1000209|\n",
      "|   mean| 3024.512347919285|1865.5398981612843|3.581564453029317|\n",
      "| stddev|1728.4126948999824|1096.0406894572482|1.117101845373263|\n",
      "|    min|                 1|                 1|                1|\n",
      "|    max|              6040|              3952|                5|\n",
      "+-------+------------------+------------------+-----------------+\n",
      "\n"
     ]
    },
    {
     "name": "stderr",
     "output_type": "stream",
     "text": [
      "                                                                                \r"
     ]
    }
   ],
   "source": [
    "ratings_df.describe().show()  # Statistical summary"
   ]
  },
  {
   "cell_type": "code",
   "execution_count": 6,
   "id": "08fbb492-feb7-4de3-9ec8-4059b7e39207",
   "metadata": {},
   "outputs": [
    {
     "name": "stderr",
     "output_type": "stream",
     "text": [
      "                                                                                \r"
     ]
    },
    {
     "name": "stdout",
     "output_type": "stream",
     "text": [
      "+-------------------+\n",
      "|        MinDateTime|\n",
      "+-------------------+\n",
      "|2000-04-26 00:05:32|\n",
      "+-------------------+\n",
      "\n"
     ]
    },
    {
     "name": "stderr",
     "output_type": "stream",
     "text": [
      "[Stage 13:==============>                                           (1 + 3) / 4]\r"
     ]
    },
    {
     "name": "stdout",
     "output_type": "stream",
     "text": [
      "+-------------------+\n",
      "|        MaxDateTime|\n",
      "+-------------------+\n",
      "|2003-02-28 17:49:50|\n",
      "+-------------------+\n",
      "\n"
     ]
    },
    {
     "name": "stderr",
     "output_type": "stream",
     "text": [
      "                                                                                \r"
     ]
    }
   ],
   "source": [
    "ratings_df.select(F.min('DateTime').alias('MinDateTime')).show()\n",
    "ratings_df.select(F.max('DateTime').alias('MaxDateTime')).show()"
   ]
  },
  {
   "cell_type": "code",
   "execution_count": 7,
   "id": "0438d8d6-8454-47f1-88fb-f5326f5ccc35",
   "metadata": {},
   "outputs": [],
   "source": [
    "def expect_column_is_int(df, colName):\n",
    "    global tests_count\n",
    "    tests_count += 1\n",
    "    sourceDataType = dict(df.dtypes)[colName]\n",
    "    if sourceDataType != 'int':\n",
    "        print(f\"FAILED: COLUMN \\\"{colName}\\\" IS NOT AN INTEGER\")\n",
    "    else:\n",
    "        global tests_passed_count\n",
    "        tests_passed_count += 1\n",
    "        \n",
    "expect_column_is_int(ratings_df, 'Rating')"
   ]
  },
  {
   "cell_type": "code",
   "execution_count": 8,
   "id": "cd8f8280-72e9-4b6e-a8c5-a51fa6411168",
   "metadata": {},
   "outputs": [
    {
     "name": "stderr",
     "output_type": "stream",
     "text": [
      "                                                                                \r"
     ]
    }
   ],
   "source": [
    "def expect_values_between(df, colName, lower_bound, upper_bound):\n",
    "    global tests_count\n",
    "    tests_count += 1\n",
    "    failed_values_count = df.filter(~F.col(colName).between(lower_bound, upper_bound)).count()\n",
    "    if failed_values_count > 0:\n",
    "        print(f\"FAILED: {failed_values_count} VALUES IN COLUMN \\\"{colName}\\\" OUTSIDE EXPECTED RANGE\")\n",
    "    else:\n",
    "        global tests_passed_count\n",
    "        tests_passed_count += 1\n",
    "        \n",
    "expect_values_between(ratings_df, \"UserID\", 1, 6040)\n",
    "expect_values_between(ratings_df, \"MovieID\", 1, 3952)\n",
    "expect_values_between(ratings_df, \"Rating\", 1, 5)"
   ]
  },
  {
   "cell_type": "code",
   "execution_count": 9,
   "id": "1220f06d-9ccd-4bc3-a2a3-bc4728f71f3f",
   "metadata": {},
   "outputs": [
    {
     "name": "stderr",
     "output_type": "stream",
     "text": [
      "                                                                                \r"
     ]
    }
   ],
   "source": [
    "def expect_min_ratings_per_user(target_value=20):\n",
    "    global tests_count\n",
    "    tests_count += 1\n",
    "    # Count ratings per user\n",
    "    rating_counts_per_user = ratings_df.groupBy(\"userId\").count()\n",
    "\n",
    "    # Find the minimum of the group count\n",
    "    min_rating_count = rating_counts_per_user.selectExpr(\"min(count) as min_count\").first()[0]\n",
    "\n",
    "    if min_rating_count < target_value:\n",
    "        print(f\"FAILED: USER(S) IN RATINGS FILE DO NOT HAVE EXPECTED MINIMUM OF {target_value} RATINGS\")\n",
    "    else:\n",
    "        global tests_passed_count\n",
    "        tests_passed_count += 1\n",
    "        \n",
    "expect_min_ratings_per_user()"
   ]
  },
  {
   "cell_type": "code",
   "execution_count": 10,
   "id": "d061c300-3692-482e-ae7c-f97ea65a0360",
   "metadata": {},
   "outputs": [],
   "source": [
    "def expect_not_null_column_values(df, colName):\n",
    "    global tests_count\n",
    "    tests_count += 1\n",
    "    # Count duplicates in column\n",
    "    null_count = df.filter(F.col(colName).isNull()).count()\n",
    "    \n",
    "    if null_count > 0:\n",
    "        print(f\"FAILED: COLUMN \\\"{colName}\\\" CONTAINS NULL VALUES\")\n",
    "    else:\n",
    "        global tests_passed_count\n",
    "        tests_passed_count += 1\n",
    "\n",
    "expect_not_null_column_values(movies_df, \"MovieID\")\n",
    "expect_not_null_column_values(movies_df, \"Title\")"
   ]
  },
  {
   "cell_type": "code",
   "execution_count": 11,
   "id": "97599f07-114d-4c3b-a728-892c6ed69226",
   "metadata": {},
   "outputs": [],
   "source": [
    "def expect_unique_column_values(df, colName):\n",
    "    global tests_count\n",
    "    tests_count += 1\n",
    "    # Count duplicates in column\n",
    "    duplicate_count = df.groupBy(colName).count().filter(F.col(\"count\") > 1).agg(F.count(\"*\").alias(\"num_duplicates\")).first()[0]\n",
    "    \n",
    "    if duplicate_count > 0:\n",
    "        print(f\"FAILED: \\\"{colName}\\\" IS NOT UNIQUE\")\n",
    "    else:\n",
    "        global tests_passed_count\n",
    "        tests_passed_count += 1\n",
    "\n",
    "expect_unique_column_values(movies_df, \"MovieID\")\n",
    "expect_unique_column_values(movies_df, \"Title\")"
   ]
  },
  {
   "cell_type": "code",
   "execution_count": 12,
   "id": "5fea807a-fae9-4028-b93b-bd709759c0c7",
   "metadata": {},
   "outputs": [],
   "source": [
    "def expect_imdb_format_movie_titles():\n",
    "    global tests_count\n",
    "    tests_count += 1\n",
    "    imdb_pattern = r\".*\\([0-9]{4}\\)$\"   # Regex pattern for title and year\n",
    "    # Count format mismatch\n",
    "    invalid_titles_count = movies_df.filter(~movies_df.Title.rlike(imdb_pattern)).count()\n",
    "    if invalid_titles_count > 0:\n",
    "        print(f\"FAILED: TITLE COLUMN IN MOVIES FILE CONTAINS VALUES INCONSISTENT WITH FORMAT \\\"TITLE (RELEASE YEAR)\\\"\")\n",
    "    else:\n",
    "        global tests_passed_count\n",
    "        tests_passed_count += 1\n",
    "        \n",
    "expect_imdb_format_movie_titles()"
   ]
  },
  {
   "cell_type": "code",
   "execution_count": 13,
   "id": "00b3eb4a-5a2e-4cf4-abe2-d6ff856ba493",
   "metadata": {},
   "outputs": [
    {
     "name": "stdout",
     "output_type": "stream",
     "text": [
      "10/10 TESTS PASSED! PERFORMING ANALYSIS...\n"
     ]
    }
   ],
   "source": [
    "if tests_passed_count < tests_count:\n",
    "    tests_failed_count = tests_count - tests_passed_count\n",
    "    raise Exception(f\"{tests_failed_count}/{tests_count} TESTS FAILED! RESOLVE BAD DATA TO PROCEED!\")\n",
    "else:\n",
    "    print(f\"{tests_passed_count}/{tests_count} TESTS PASSED! PERFORMING ANALYSIS...\")"
   ]
  },
  {
   "cell_type": "code",
   "execution_count": 14,
   "id": "37787c41-9691-49b6-b4ad-4ff039e037d8",
   "metadata": {},
   "outputs": [
    {
     "name": "stderr",
     "output_type": "stream",
     "text": [
      "[Stage 56:>                                                         (0 + 4) / 4]\r"
     ]
    },
    {
     "name": "stdout",
     "output_type": "stream",
     "text": [
      "+-------+--------------------+--------------------+---------+---------+---------+\n",
      "|MovieID|               Title|              Genres|MaxRating|MinRating|AvgRating|\n",
      "+-------+--------------------+--------------------+---------+---------+---------+\n",
      "|      1|    Toy Story (1995)|Animation|Childre...|        5|        1|     4.15|\n",
      "|      2|      Jumanji (1995)|Adventure|Childre...|        5|        1|      3.2|\n",
      "|      3|Grumpier Old Men ...|      Comedy|Romance|        5|        1|     3.02|\n",
      "|      4|Waiting to Exhale...|        Comedy|Drama|        5|        1|     2.73|\n",
      "|      5|Father of the Bri...|              Comedy|        5|        1|     3.01|\n",
      "|      6|         Heat (1995)|Action|Crime|Thri...|        5|        1|     3.88|\n",
      "|      7|      Sabrina (1995)|      Comedy|Romance|        5|        1|     3.41|\n",
      "|      8| Tom and Huck (1995)|Adventure|Children's|        5|        1|     3.01|\n",
      "|      9| Sudden Death (1995)|              Action|        5|        1|     2.66|\n",
      "|     10|    GoldenEye (1995)|Action|Adventure|...|        5|        1|     3.54|\n",
      "|     11|American Presiden...|Comedy|Drama|Romance|        5|        1|     3.79|\n",
      "|     12|Dracula: Dead and...|       Comedy|Horror|        5|        1|     2.36|\n",
      "|     13|        Balto (1995)|Animation|Children's|        5|        1|     3.26|\n",
      "|     14|        Nixon (1995)|               Drama|        5|        1|     3.54|\n",
      "|     15|Cutthroat Island ...|Action|Adventure|...|        5|        1|     2.46|\n",
      "|     16|       Casino (1995)|      Drama|Thriller|        5|        1|     3.79|\n",
      "|     17|Sense and Sensibi...|       Drama|Romance|        5|        1|     4.03|\n",
      "|     18|   Four Rooms (1995)|            Thriller|        5|        1|     3.34|\n",
      "|     19|Ace Ventura: When...|              Comedy|        5|        1|     2.48|\n",
      "|     20|  Money Train (1995)|              Action|        4|        1|     2.54|\n",
      "+-------+--------------------+--------------------+---------+---------+---------+\n",
      "only showing top 20 rows\n",
      "\n"
     ]
    },
    {
     "name": "stderr",
     "output_type": "stream",
     "text": [
      "                                                                                \r"
     ]
    }
   ],
   "source": [
    "# Register DataFrames as temporary views\n",
    "movies_df.createOrReplaceTempView(\"movies\")\n",
    "ratings_df.createOrReplaceTempView(\"ratings\")\n",
    "\n",
    "# Execute Spark SQL query\n",
    "movie_results_df = spark.sql(\"\"\"\n",
    "    SELECT \n",
    "        m.*,\n",
    "        MAX(Rating) AS MaxRating, \n",
    "        MIN(Rating) AS MinRating,\n",
    "        ROUND( AVG(Rating), 2 ) AS AvgRating\n",
    "    FROM movies m \n",
    "    LEFT JOIN ratings r \n",
    "        ON m.MovieID = r.MovieID\n",
    "    GROUP BY \n",
    "        m.MovieID,\n",
    "        m.Title,\n",
    "        m.Genres\n",
    "    ORDER BY\n",
    "        m.MovieID\n",
    "\"\"\")\n",
    "\n",
    "# Display the results\n",
    "movie_results_df.show()"
   ]
  },
  {
   "cell_type": "code",
   "execution_count": 15,
   "id": "40438107-46fb-4c78-86f7-f6c7bae16a1c",
   "metadata": {},
   "outputs": [
    {
     "name": "stderr",
     "output_type": "stream",
     "text": [
      "[Stage 58:==============>                                           (1 + 3) / 4]\r"
     ]
    },
    {
     "name": "stdout",
     "output_type": "stream",
     "text": [
      "+------+--------------------+------+---------+\n",
      "|UserID|               Title|Rating|TitleRank|\n",
      "+------+--------------------+------+---------+\n",
      "|     1|One Flew Over the...|     5|        1|\n",
      "|     1|Bug's Life, A (1998)|     5|        1|\n",
      "|     1|      Ben-Hur (1959)|     5|        1|\n",
      "|     1|Christmas Story, ...|     5|        1|\n",
      "|     1|Beauty and the Be...|     5|        1|\n",
      "|     1|Sound of Music, T...|     5|        1|\n",
      "|     1|   Awakenings (1990)|     5|        1|\n",
      "|     1|Back to the Futur...|     5|        1|\n",
      "|     1|Schindler's List ...|     5|        1|\n",
      "|     1|   Pocahontas (1995)|     5|        1|\n",
      "|     1|Last Days of Disc...|     5|        1|\n",
      "|     1|   Cinderella (1950)|     5|        1|\n",
      "|     1|    Apollo 13 (1995)|     5|        1|\n",
      "|     1|    Toy Story (1995)|     5|        1|\n",
      "|     1|     Rain Man (1988)|     5|        1|\n",
      "|     1| Mary Poppins (1964)|     5|        1|\n",
      "|     1|        Dumbo (1941)|     5|        1|\n",
      "|     1|Saving Private Ry...|     5|        1|\n",
      "|     2|        Shine (1996)|     5|        1|\n",
      "|     2|Few Good Men, A (...|     5|        1|\n",
      "+------+--------------------+------+---------+\n",
      "only showing top 20 rows\n",
      "\n"
     ]
    },
    {
     "name": "stderr",
     "output_type": "stream",
     "text": [
      "                                                                                \r"
     ]
    }
   ],
   "source": [
    "# Execute Spark SQL query\n",
    "user_results_df = spark.sql(\"\"\"\n",
    "    WITH movies_ranked AS (\n",
    "        SELECT \n",
    "            r.UserID,\n",
    "            m.Title,\n",
    "            r.Rating,\n",
    "            RANK() OVER ( PARTITION BY r.UserID ORDER BY r.Rating DESC ) AS TitleRank\n",
    "        FROM ratings r\n",
    "        LEFT JOIN movies m\n",
    "            ON r.MovieID = m.MovieID\n",
    "        )\n",
    "    SELECT *\n",
    "    FROM movies_ranked\n",
    "    WHERE TitleRank < 4\n",
    "    ORDER BY\n",
    "        UserID\n",
    "\"\"\")\n",
    "\n",
    "# Display the results\n",
    "user_results_df.show()"
   ]
  },
  {
   "cell_type": "code",
   "execution_count": 16,
   "id": "9e0fde87-096f-48ac-a1f7-b0902d16812f",
   "metadata": {},
   "outputs": [],
   "source": [
    "def write_csv(df, file_name):\n",
    "    # Write the DataFrame to a CSV file\n",
    "    df.write.format(\"csv\").option(\"header\", \"true\").mode(\"overwrite\").save(file_name)\n",
    "    print(f\"SAVED {file_name}\")\n",
    "\n",
    "# write_csv(movies_df, \"original_movies.csv\")\n",
    "# write_csv(ratings_df, \"original_ratings.csv\")\n",
    "# write_csv(movie_results_df, \"aggregate_ratings_per_movie.csv\")\n",
    "# write_csv(user_results_df, \"top_3_movies_per_user.csv\")"
   ]
  },
  {
   "cell_type": "code",
   "execution_count": null,
   "id": "d8d7729f-1253-4b7f-8f21-15ab9332c1a6",
   "metadata": {},
   "outputs": [],
   "source": []
  }
 ],
 "metadata": {
  "kernelspec": {
   "display_name": "Python 3 (ipykernel)",
   "language": "python",
   "name": "python3"
  },
  "language_info": {
   "codemirror_mode": {
    "name": "ipython",
    "version": 3
   },
   "file_extension": ".py",
   "mimetype": "text/x-python",
   "name": "python",
   "nbconvert_exporter": "python",
   "pygments_lexer": "ipython3",
   "version": "3.9.18"
  }
 },
 "nbformat": 4,
 "nbformat_minor": 5
}
